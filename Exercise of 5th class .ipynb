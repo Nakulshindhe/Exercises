{
 "cells": [
  {
   "cell_type": "code",
   "execution_count": 2,
   "id": "ff82b4d2",
   "metadata": {},
   "outputs": [],
   "source": [
    "a = \"This is My first python programming class and I am learning python string and its function\""
   ]
  },
  {
   "cell_type": "code",
   "execution_count": 3,
   "id": "803382ee",
   "metadata": {},
   "outputs": [
    {
     "data": {
      "text/plain": [
       "'h   r tnrrmglsnImengyosi dtfco'"
      ]
     },
     "execution_count": 3,
     "metadata": {},
     "output_type": "execute_result"
    }
   ],
   "source": [
    "a[1:300:3]"
   ]
  },
  {
   "cell_type": "code",
   "execution_count": 4,
   "id": "a80796ac",
   "metadata": {},
   "outputs": [
    {
     "data": {
      "text/plain": [
       "'noitcnuf sti dna gnirts nohtyp gninrael ma I dna ssalc gnimmargorp nohtyp tsrif yM si sihT'"
      ]
     },
     "execution_count": 4,
     "metadata": {},
     "output_type": "execute_result"
    }
   ],
   "source": [
    "a[::-1]"
   ]
  },
  {
   "cell_type": "code",
   "execution_count": 7,
   "id": "af6f7362",
   "metadata": {},
   "outputs": [
    {
     "data": {
      "text/plain": [
       "['THIS',\n",
       " 'IS',\n",
       " 'MY',\n",
       " 'FIRST',\n",
       " 'PYTHON',\n",
       " 'PROGRAMMING',\n",
       " 'CLASS',\n",
       " 'AND',\n",
       " 'I',\n",
       " 'AM',\n",
       " 'LEARNING',\n",
       " 'PYTHON',\n",
       " 'STRING',\n",
       " 'AND',\n",
       " 'ITS',\n",
       " 'FUNCTION']"
      ]
     },
     "execution_count": 7,
     "metadata": {},
     "output_type": "execute_result"
    }
   ],
   "source": [
    "(a.upper()).split( )"
   ]
  },
  {
   "cell_type": "code",
   "execution_count": 8,
   "id": "9951733d",
   "metadata": {},
   "outputs": [
    {
     "data": {
      "text/plain": [
       "'this is my first python programming class and i am learning python string and its function'"
      ]
     },
     "execution_count": 8,
     "metadata": {},
     "output_type": "execute_result"
    }
   ],
   "source": [
    "a.lower()"
   ]
  },
  {
   "cell_type": "code",
   "execution_count": 9,
   "id": "355403ca",
   "metadata": {},
   "outputs": [
    {
     "data": {
      "text/plain": [
       "'This is my first python programming class and i am learning python string and its function'"
      ]
     },
     "execution_count": 9,
     "metadata": {},
     "output_type": "execute_result"
    }
   ],
   "source": [
    "a.capitalize()"
   ]
  },
  {
   "cell_type": "code",
   "execution_count": 11,
   "id": "e0a4869f",
   "metadata": {},
   "outputs": [],
   "source": [
    "#Write a difference between isalnum() and isalpha():\n",
    "\n",
    "#isalnum() : It will give a bool result \"Yes or No\" based on the string. If string contains the both alpha and numeric or either one, it will give a result as True.\n",
    "#isalpha() : It will give a bool result \"Yes or No\" based on the string. If string contains only alpha then it will give result as true or else false."
   ]
  },
  {
   "cell_type": "code",
   "execution_count": 12,
   "id": "c9421c00",
   "metadata": {},
   "outputs": [],
   "source": [
    "#Example for an expand tab\n",
    "b = \"Nakul\\tTukaram\\tShindhe\""
   ]
  },
  {
   "cell_type": "code",
   "execution_count": 15,
   "id": "992c71e7",
   "metadata": {},
   "outputs": [],
   "source": [
    "#Example of strip, lstrip and rstrip.\n",
    "c = \"     Nakul Tukaram Shindhe    \""
   ]
  },
  {
   "cell_type": "code",
   "execution_count": 16,
   "id": "4364cd79",
   "metadata": {},
   "outputs": [
    {
     "data": {
      "text/plain": [
       "'Nakul Tukaram Shindhe'"
      ]
     },
     "execution_count": 16,
     "metadata": {},
     "output_type": "execute_result"
    }
   ],
   "source": [
    "c.strip()"
   ]
  },
  {
   "cell_type": "code",
   "execution_count": 17,
   "id": "b152ec10",
   "metadata": {},
   "outputs": [
    {
     "data": {
      "text/plain": [
       "'Nakul Tukaram Shindhe    '"
      ]
     },
     "execution_count": 17,
     "metadata": {},
     "output_type": "execute_result"
    }
   ],
   "source": [
    "c.lstrip()"
   ]
  },
  {
   "cell_type": "code",
   "execution_count": 18,
   "id": "ccbd44ec",
   "metadata": {},
   "outputs": [
    {
     "data": {
      "text/plain": [
       "'     Nakul Tukaram Shindhe'"
      ]
     },
     "execution_count": 18,
     "metadata": {},
     "output_type": "execute_result"
    }
   ],
   "source": [
    "c.rstrip()"
   ]
  },
  {
   "cell_type": "code",
   "execution_count": 19,
   "id": "17f6c82b",
   "metadata": {},
   "outputs": [],
   "source": [
    "#Replace example\n",
    "d = \"Nakul is a class teacher\""
   ]
  },
  {
   "cell_type": "code",
   "execution_count": 25,
   "id": "bfdae802",
   "metadata": {},
   "outputs": [
    {
     "data": {
      "text/plain": [
       "'Shudanshu is a class teacher'"
      ]
     },
     "execution_count": 25,
     "metadata": {},
     "output_type": "execute_result"
    }
   ],
   "source": [
    "d.replace(\"Nakul\",\"Shudanshu\")"
   ]
  },
  {
   "cell_type": "code",
   "execution_count": 26,
   "id": "91e63239",
   "metadata": {},
   "outputs": [],
   "source": [
    "#Definition and Example for string center\n",
    "#Definition of string center : It will add the contain given by us with keeping the string center.\n",
    "#Example\n",
    "e = \"Nakul Shindhe\""
   ]
  },
  {
   "cell_type": "code",
   "execution_count": 29,
   "id": "8d02dc41",
   "metadata": {},
   "outputs": [
    {
     "data": {
      "text/plain": [
       "'------------------Nakul Shindhe-------------------'"
      ]
     },
     "execution_count": 29,
     "metadata": {},
     "output_type": "execute_result"
    }
   ],
   "source": [
    "e.center(50,\"-\")"
   ]
  },
  {
   "cell_type": "code",
   "execution_count": 30,
   "id": "721109ba",
   "metadata": {},
   "outputs": [],
   "source": [
    "#Definition of compiler and Interpretor \n",
    "#Compiler : It will run the code with considering all program at a time. Example Java and it's good for production environment\n",
    "#Interpretor : It will run the code with considering line by line. Example Python and it's good for Software development "
   ]
  },
  {
   "cell_type": "code",
   "execution_count": null,
   "id": "94bc8f04",
   "metadata": {},
   "outputs": [],
   "source": [
    "#Use case of Python,\n",
    "1. Software development\n",
    "2. For AI and ML\n",
    "3. For Education purpose\n",
    "4. To build a apps\n",
    "5. To build a gamings."
   ]
  }
 ],
 "metadata": {
  "kernelspec": {
   "display_name": "Python 3",
   "language": "python",
   "name": "python3"
  },
  "language_info": {
   "codemirror_mode": {
    "name": "ipython",
    "version": 3
   },
   "file_extension": ".py",
   "mimetype": "text/x-python",
   "name": "python",
   "nbconvert_exporter": "python",
   "pygments_lexer": "ipython3",
   "version": "3.8.8"
  }
 },
 "nbformat": 4,
 "nbformat_minor": 5
}
